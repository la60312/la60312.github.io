{
 "cells": [
  {
   "cell_type": "markdown",
   "metadata": {
    "deletable": true,
    "editable": true
   },
   "source": [
    "# Publications markdown generator for academicpages\n",
    "\n",
    "Takes a TSV of publications with metadata and converts them for use with [academicpages.github.io](academicpages.github.io). This is an interactive Jupyter notebook ([see more info here](http://jupyter-notebook-beginner-guide.readthedocs.io/en/latest/what_is_jupyter.html)). The core python code is also in `publications.py`. Run either from the `markdown_generator` folder after replacing `publications.tsv` with one containing your data.\n",
    "\n",
    "TODO: Make this work with BibTex and other databases of citations, rather than Stuart's non-standard TSV format and citation style.\n"
   ]
  },
  {
   "cell_type": "markdown",
   "metadata": {},
   "source": [
    "## Data format\n",
    "\n",
    "The TSV needs to have the following columns: pub_date, title, venue, excerpt, citation, site_url, and paper_url, with a header at the top. \n",
    "\n",
    "- `excerpt` and `paper_url` can be blank, but the others must have values. \n",
    "- `pub_date` must be formatted as YYYY-MM-DD.\n",
    "- `url_slug` will be the descriptive part of the .md file and the permalink URL for the page about the paper. The .md file will be `YYYY-MM-DD-[url_slug].md` and the permalink will be `https://[yourdomain]/publications/YYYY-MM-DD-[url_slug]`\n",
    "\n",
    "This is how the raw file looks (it doesn't look pretty, use a spreadsheet or other program to edit and create)."
   ]
  },
  {
   "cell_type": "code",
   "execution_count": 20,
   "metadata": {
    "collapsed": false,
    "jupyter": {
     "outputs_hidden": false
    }
   },
   "outputs": [
    {
     "name": "stdout",
     "output_type": "stream",
     "text": [
      "pub_date\ttitle\tvenue\texcerpt\tcitation\turl_slug\tpaper_url\n",
      "2019-6-5\tPEDIA: Prioritization of Exome Data by Image Analysis\tGenetics in Medicine\t\tTzung-Chien Hsieh, Martin Atta Mensah, Jean Tori Pantel, PEDIA consortium, Peter Krawitz. \"PEDIA: Prioritization of Exome Data by Image Analysis.\" Genetics in Medicine, June 5, 2019\tPEDIA: Prioritization of Exome Data by Image Analysis\thttps://www.nature.com/articles/s41436-019-0566-2\n",
      "2019-4-4\tThe Discovery of a LEMD2-Associated Nuclear Envelopathy with Early Progeroid Appearance Suggests Advanced Applications for AI-Driven Facial Phenotyping\tThe American Journal of Human Genetics\t\tFelix Marbach, Cecilie F. Rustad, Angelika Riess, Dejan Dukic, Tzung-Chien Hsieh, Itamar Jobani, Trine Prescott, Andrea Bevot, Florian Erger, Gunnar Houge, Maria Redfors, Janine Altmueller, Tomasz Stokowy, Christian Gilissen, Christian Kubisch, Emanuela Scarano, Laura Mazzanti, Torunn Fiskerstrand, Peter M. Krawitz, Davor Lessel, and Christian Netze. \"The Discovery of a LEMD2-Associated Nuclear Envelopathy with Early Progeroid Appearance Suggests Advanced Applications for AI-Driven Facial Phenotyping\" The American Journal of Human Genetics 104, 1-9, April 4, 2019\tThe Discovery of a LEMD2-Associated Nuclear Envelopathy with Early Progeroid Appearance Suggests Advanced Applications for AI-Driven Facial Phenotyping\t\n",
      "2018-12-10\tAdvances in computer-assisted syndrome recognition by the example of inborn errors of metabolism.\tJournal of inherited metabolic disease\t\tJean T Pantel, Max Zhao, Martin A Mensah, Nurulhuda Hajjir, Tzung-Chien Hsieh, Yair Hanani, Nicole Fleischer, Tom Kamphans, Stefan Mundlos, Yaron Gurovich, Peter M Krawitz. \"Advances in computer-assisted syndrome recognition by the example of inborn errors of metabolism.\" Journal of inherited metabolic disease, 2018\"\tAdvances in computer-assisted syndrome recognition by the example of inborn errors of metabolism.\t\n",
      "2018-12-10\tCharacterization of glycosylphosphatidylinositol biosynthesis defects by clinical features, flow cytometry, and automated image analysis\tGenome Medicine\t\tAlexej Knaus, Jean Tori Pantel, Manuela Pendziwiat, Nurulhuda Hajjir, Max Zhao, Tzung-Chien Hsieh, Max Schubach, Yaron Gurovich, Nicole Fleischer, Marten Jaeger, Sebastian Koehler, Hiltrud Muhle, Christian Korff, Rikke S Moller, Allan Bayat, Patrick Calvas, Nicolas Chassaing, Hannah Warren, Steven Skinner, Raymond Louie, Christina Evers, Marc Bohn, Hans-Joergen Christen, Myrthe van den Born, Ewa Obersztyn, Agnieszka Charzewska, Milda Endziniene, Fanny Kortuem, Natasha Brown, Peter N Robinson, Helenius J Schelhaas, Yvonne Weber, Ingo Helbig, Stefan Mundlos, Denise Horn, Peter M Krawitz. \"Characterization of glycosylphosphatidylinositol biosynthesis defects by clinical features, flow cytometry, and automated image analysis.\" Genome Medicine, 2018\tCharacterization of glycosylphosphatidylinositol biosynthesis defects by clinical features, flow cytometry, and automated image analysis\t\n",
      "2013-5-3\tComparison of feature selection methods for cross-laboratory microarray analysis\tIEEE/ACM Trans. Comput. Biol. Bioinformatics\t\t\"Hsi-Che Liu, Pei-Chen Peng, Tzung-Chien Hsieh, Ting-Chi Yeh, Chih-Jen Lin, Chien-Yu Chen, Jen-Yin Hou, Lee-Yung Shih, Der-Cherng Liang. \"Comparison of feature selection methods for cross-laboratory microarray analysis.\" IEEE/ACM Trans. Comput. Biol. Bioinformatics 10, 3\tComparison of feature selection methods for cross-laboratory microarray analysis\t\n"
     ]
    }
   ],
   "source": [
    "!cat publications.tsv"
   ]
  },
  {
   "cell_type": "markdown",
   "metadata": {},
   "source": [
    "## Import pandas\n",
    "\n",
    "We are using the very handy pandas library for dataframes."
   ]
  },
  {
   "cell_type": "code",
   "execution_count": 21,
   "metadata": {
    "deletable": true,
    "editable": true
   },
   "outputs": [],
   "source": [
    "import pandas as pd"
   ]
  },
  {
   "cell_type": "markdown",
   "metadata": {},
   "source": [
    "## Import TSV\n",
    "\n",
    "Pandas makes this easy with the read_csv function. We are using a TSV, so we specify the separator as a tab, or `\\t`.\n",
    "\n",
    "I found it important to put this data in a tab-separated values format, because there are a lot of commas in this kind of data and comma-separated values can get messed up. However, you can modify the import statement, as pandas also has read_excel(), read_json(), and others."
   ]
  },
  {
   "cell_type": "code",
   "execution_count": 29,
   "metadata": {
    "collapsed": false,
    "deletable": true,
    "editable": true,
    "jupyter": {
     "outputs_hidden": false
    }
   },
   "outputs": [
    {
     "data": {
      "text/html": [
       "<div>\n",
       "<style scoped>\n",
       "    .dataframe tbody tr th:only-of-type {\n",
       "        vertical-align: middle;\n",
       "    }\n",
       "\n",
       "    .dataframe tbody tr th {\n",
       "        vertical-align: top;\n",
       "    }\n",
       "\n",
       "    .dataframe thead th {\n",
       "        text-align: right;\n",
       "    }\n",
       "</style>\n",
       "<table border=\"1\" class=\"dataframe\">\n",
       "  <thead>\n",
       "    <tr style=\"text-align: right;\">\n",
       "      <th></th>\n",
       "      <th>pub_date</th>\n",
       "      <th>title</th>\n",
       "      <th>venue</th>\n",
       "      <th>excerpt</th>\n",
       "      <th>citation</th>\n",
       "      <th>url_slug</th>\n",
       "      <th>paper_url</th>\n",
       "    </tr>\n",
       "  </thead>\n",
       "  <tbody>\n",
       "    <tr>\n",
       "      <th>0</th>\n",
       "      <td>2019-6-5</td>\n",
       "      <td>PEDIA: Prioritization of Exome Data by Image A...</td>\n",
       "      <td>Genetics in Medicine</td>\n",
       "      <td>NaN</td>\n",
       "      <td>Tzung-Chien Hsieh, Martin Atta Mensah, Jean To...</td>\n",
       "      <td>PEDIA</td>\n",
       "      <td>https://www.nature.com/articles/s41436-019-0566-2</td>\n",
       "    </tr>\n",
       "    <tr>\n",
       "      <th>1</th>\n",
       "      <td>2019-4-4</td>\n",
       "      <td>The Discovery of a LEMD2-Associated Nuclear En...</td>\n",
       "      <td>The American Journal of Human Genetics</td>\n",
       "      <td>NaN</td>\n",
       "      <td>Felix Marbach, Cecilie F. Rustad, Angelika Rie...</td>\n",
       "      <td>The-Discovery-of-a-LEMD2-Associated-Nuclear-En...</td>\n",
       "      <td>NaN</td>\n",
       "    </tr>\n",
       "    <tr>\n",
       "      <th>2</th>\n",
       "      <td>2018-12-10</td>\n",
       "      <td>Advances in computer-assisted syndrome recogni...</td>\n",
       "      <td>Journal of inherited metabolic disease</td>\n",
       "      <td>NaN</td>\n",
       "      <td>Jean T Pantel, Max Zhao, Martin A Mensah, Nuru...</td>\n",
       "      <td>Advances in computer-assisted syndrome recogni...</td>\n",
       "      <td>NaN</td>\n",
       "    </tr>\n",
       "    <tr>\n",
       "      <th>3</th>\n",
       "      <td>2018-12-10</td>\n",
       "      <td>Characterization of glycosylphosphatidylinosit...</td>\n",
       "      <td>Genome Medicine</td>\n",
       "      <td>NaN</td>\n",
       "      <td>Alexej Knaus, Jean Tori Pantel, Manuela Pendzi...</td>\n",
       "      <td>Characterization-of-glycosylphosphatidylinosit...</td>\n",
       "      <td>NaN</td>\n",
       "    </tr>\n",
       "    <tr>\n",
       "      <th>4</th>\n",
       "      <td>2013-5-3</td>\n",
       "      <td>Comparison of feature selection methods for cr...</td>\n",
       "      <td>IEEE/ACM Trans. Comput. Biol. Bioinformatics</td>\n",
       "      <td>NaN</td>\n",
       "      <td>Hsi-Che Liu, Pei-Chen Peng, Tzung-Chien Hsieh,...</td>\n",
       "      <td>Comparison-of-feature-selection-methods</td>\n",
       "      <td>NaN</td>\n",
       "    </tr>\n",
       "  </tbody>\n",
       "</table>\n",
       "</div>"
      ],
      "text/plain": [
       "     pub_date                                              title  \\\n",
       "0    2019-6-5  PEDIA: Prioritization of Exome Data by Image A...   \n",
       "1    2019-4-4  The Discovery of a LEMD2-Associated Nuclear En...   \n",
       "2  2018-12-10  Advances in computer-assisted syndrome recogni...   \n",
       "3  2018-12-10  Characterization of glycosylphosphatidylinosit...   \n",
       "4    2013-5-3  Comparison of feature selection methods for cr...   \n",
       "\n",
       "                                          venue  excerpt  \\\n",
       "0                          Genetics in Medicine      NaN   \n",
       "1        The American Journal of Human Genetics      NaN   \n",
       "2        Journal of inherited metabolic disease      NaN   \n",
       "3                               Genome Medicine      NaN   \n",
       "4  IEEE/ACM Trans. Comput. Biol. Bioinformatics      NaN   \n",
       "\n",
       "                                            citation  \\\n",
       "0  Tzung-Chien Hsieh, Martin Atta Mensah, Jean To...   \n",
       "1  Felix Marbach, Cecilie F. Rustad, Angelika Rie...   \n",
       "2  Jean T Pantel, Max Zhao, Martin A Mensah, Nuru...   \n",
       "3  Alexej Knaus, Jean Tori Pantel, Manuela Pendzi...   \n",
       "4  Hsi-Che Liu, Pei-Chen Peng, Tzung-Chien Hsieh,...   \n",
       "\n",
       "                                            url_slug  \\\n",
       "0                                              PEDIA   \n",
       "1  The-Discovery-of-a-LEMD2-Associated-Nuclear-En...   \n",
       "2  Advances in computer-assisted syndrome recogni...   \n",
       "3  Characterization-of-glycosylphosphatidylinosit...   \n",
       "4            Comparison-of-feature-selection-methods   \n",
       "\n",
       "                                           paper_url  \n",
       "0  https://www.nature.com/articles/s41436-019-0566-2  \n",
       "1                                                NaN  \n",
       "2                                                NaN  \n",
       "3                                                NaN  \n",
       "4                                                NaN  "
      ]
     },
     "execution_count": 29,
     "metadata": {},
     "output_type": "execute_result"
    }
   ],
   "source": [
    "publications = pd.read_csv(\"publications.tsv\", sep=\"\\t\", header=0)\n",
    "publications\n"
   ]
  },
  {
   "cell_type": "markdown",
   "metadata": {},
   "source": [
    "## Escape special characters\n",
    "\n",
    "YAML is very picky about how it takes a valid string, so we are replacing single and double quotes (and ampersands) with their HTML encoded equivilents. This makes them look not so readable in raw format, but they are parsed and rendered nicely."
   ]
  },
  {
   "cell_type": "code",
   "execution_count": 23,
   "metadata": {
    "deletable": true,
    "editable": true
   },
   "outputs": [],
   "source": [
    "html_escape_table = {\n",
    "    \"&\": \"&amp;\",\n",
    "    '\"': \"&quot;\",\n",
    "    \"'\": \"&apos;\"\n",
    "    }\n",
    "\n",
    "def html_escape(text):\n",
    "    \"\"\"Produce entities within text.\"\"\"\n",
    "    return \"\".join(html_escape_table.get(c,c) for c in text)"
   ]
  },
  {
   "cell_type": "markdown",
   "metadata": {},
   "source": [
    "## Creating the markdown files\n",
    "\n",
    "This is where the heavy lifting is done. This loops through all the rows in the TSV dataframe, then starts to concatentate a big string (```md```) that contains the markdown for each type. It does the YAML metadata first, then does the description for the individual page."
   ]
  },
  {
   "cell_type": "code",
   "execution_count": 30,
   "metadata": {
    "collapsed": false,
    "deletable": true,
    "editable": true,
    "jupyter": {
     "outputs_hidden": false
    }
   },
   "outputs": [],
   "source": [
    "import os\n",
    "for row, item in publications.iterrows():\n",
    "    \n",
    "    md_filename = str(item.pub_date) + \"-\" + item.url_slug + \".md\"\n",
    "    html_filename = str(item.pub_date) + \"-\" + item.url_slug\n",
    "    year = item.pub_date[:4]\n",
    "    \n",
    "    ## YAML variables\n",
    "    \n",
    "    md = \"---\\ntitle: \\\"\"   + item.title + '\"\\n'\n",
    "    \n",
    "    md += \"\"\"collection: publications\"\"\"\n",
    "    \n",
    "    md += \"\"\"\\npermalink: /publication/\"\"\" + html_filename\n",
    "    \n",
    "    if len(str(item.excerpt)) > 5:\n",
    "        md += \"\\nexcerpt: '\" + html_escape(item.excerpt) + \"'\"\n",
    "    \n",
    "    md += \"\\ndate: \" + str(item.pub_date) \n",
    "    \n",
    "    md += \"\\nvenue: '\" + html_escape(item.venue) + \"'\"\n",
    "    \n",
    "    if len(str(item.paper_url)) > 5:\n",
    "        md += \"\\npaperurl: '\" + item.paper_url + \"'\"\n",
    "    \n",
    "    md += \"\\ncitation: '\" + html_escape(item.citation) + \"'\"\n",
    "    \n",
    "    md += \"\\n---\"\n",
    "    \n",
    "    ## Markdown description for individual page\n",
    "        \n",
    "    if len(str(item.excerpt)) > 5:\n",
    "        md += \"\\n\" + html_escape(item.excerpt) + \"\\n\"\n",
    "    \n",
    "    if len(str(item.paper_url)) > 5:\n",
    "        md += \"\\n[Download paper here](\" + item.paper_url + \")\\n\" \n",
    "        \n",
    "    md += \"\\nRecommended citation: \" + item.citation\n",
    "    \n",
    "    md_filename = os.path.basename(md_filename)\n",
    "       \n",
    "    with open(\"../_publications/\" + md_filename, 'w') as f:\n",
    "        f.write(md)"
   ]
  },
  {
   "cell_type": "markdown",
   "metadata": {},
   "source": [
    "These files are in the publications directory, one directory below where we're working from."
   ]
  },
  {
   "cell_type": "code",
   "execution_count": 28,
   "metadata": {
    "collapsed": false,
    "deletable": true,
    "editable": true,
    "jupyter": {
     "outputs_hidden": false
    }
   },
   "outputs": [
    {
     "name": "stdout",
     "output_type": "stream",
     "text": [
      "2013-5-3-Comparison of feature selection methods for cross-laboratory microarray analysis.md\n",
      "2018-12-10-Advances in computer-assisted syndrome recognition by the example of inborn errors of metabolism..md\n",
      "2018-12-10-Characterization of glycosylphosphatidylinositol biosynthesis defects by clinical features, flow cytometry, and automated image analysis.md\n",
      "2019-4-4-The Discovery of a LEMD2-Associated Nuclear Envelopathy with Early Progeroid Appearance Suggests Advanced Applications for AI-Driven Facial Phenotyping.md\n",
      "2019-6-5-PEDIA\n"
     ]
    }
   ],
   "source": [
    "!ls ../_publications/"
   ]
  },
  {
   "cell_type": "code",
   "execution_count": 26,
   "metadata": {
    "collapsed": false,
    "deletable": true,
    "editable": true,
    "jupyter": {
     "outputs_hidden": false
    }
   },
   "outputs": [
    {
     "name": "stdout",
     "output_type": "stream",
     "text": [
      "---\n",
      "title: \"Paper Title Number 1\"\n",
      "collection: publications\n",
      "permalink: /publication/2009-10-01-paper-title-number-1\n",
      "excerpt: 'This paper is about the number 1. The number 2 is left for future work.'\n",
      "date: 2009-10-01\n",
      "venue: 'Journal 1'\n",
      "paperurl: 'http://academicpages.github.io/files/paper1.pdf'\n",
      "citation: 'Your Name, You. (2009). &quot;Paper Title Number 1.&quot; <i>Journal 1</i>. 1(1).'\n",
      "---\n",
      "This paper is about the number 1. The number 2 is left for future work.\n",
      "\n",
      "[Download paper here](http://academicpages.github.io/files/paper1.pdf)\n",
      "\n",
      "Recommended citation: Your Name, You. (2009). \"Paper Title Number 1.\" <i>Journal 1</i>. 1(1).\n"
     ]
    }
   ],
   "source": [
    "!cat ../_publications/2009-10-01-paper-title-number-1.md"
   ]
  },
  {
   "cell_type": "code",
   "execution_count": null,
   "metadata": {
    "collapsed": true,
    "deletable": true,
    "editable": true,
    "jupyter": {
     "outputs_hidden": true
    }
   },
   "outputs": [],
   "source": []
  }
 ],
 "metadata": {
  "kernelspec": {
   "display_name": "Python 3",
   "language": "python",
   "name": "python3"
  },
  "language_info": {
   "codemirror_mode": {
    "name": "ipython",
    "version": 3
   },
   "file_extension": ".py",
   "mimetype": "text/x-python",
   "name": "python",
   "nbconvert_exporter": "python",
   "pygments_lexer": "ipython3",
   "version": "3.6.8"
  }
 },
 "nbformat": 4,
 "nbformat_minor": 4
}
